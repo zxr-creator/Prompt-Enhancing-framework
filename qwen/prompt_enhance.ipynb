{
 "cells": [
  {
   "cell_type": "markdown",
   "id": "f2c16396",
   "metadata": {},
   "source": [
    "### Universal Recognition with Qwen2.5-VL\n",
    "\n",
    "This notebook demonstrates how to use Qwen2.5-VL for universal recognition. It takes an image and a query, and then uses the model to interpret the user's query on the image."
   ]
  },
  {
   "cell_type": "markdown",
   "id": "869bab2a",
   "metadata": {},
   "source": [
    "!pip install git+https://github.com/huggingface/transformers\n",
    "!pip install qwen-vl-utils\n",
    "!pip install qwen_agent\n",
    "!pip install openai#### \\[Setup\\]\n",
    "\n",
    "Load plotting and inference util."
   ]
  },
  {
   "cell_type": "code",
   "execution_count": 5,
   "id": "638e9082-c1ef-4efd-9a10-e35507e25363",
   "metadata": {
    "execution": {
     "iopub.execute_input": "2025-01-29T12:40:04.049566Z",
     "iopub.status.busy": "2025-01-29T12:40:04.049365Z"
    },
    "tags": []
   },
   "outputs": [
    {
     "name": "stderr",
     "output_type": "stream",
     "text": [
      "huggingface/tokenizers: The current process just got forked, after parallelism has already been used. Disabling parallelism to avoid deadlocks...\n",
      "To disable this warning, you can either:\n",
      "\t- Avoid using `tokenizers` before the fork if possible\n",
      "\t- Explicitly set the environment variable TOKENIZERS_PARALLELISM=(true | false)\n"
     ]
    },
    {
     "name": "stdout",
     "output_type": "stream",
     "text": [
      "Collecting git+https://github.com/huggingface/transformers\n",
      "  Cloning https://github.com/huggingface/transformers to /tmp/pip-req-build-_5lcujr8\n",
      "  Running command git clone --filter=blob:none --quiet https://github.com/huggingface/transformers /tmp/pip-req-build-_5lcujr8\n",
      "  Resolved https://github.com/huggingface/transformers to commit 41b9b92b52215bed472c9a534a06abbc3a9a95cd\n",
      "  Installing build dependencies ... \u001b[?25ldone\n",
      "\u001b[?25h  Getting requirements to build wheel ... \u001b[?25ldone\n",
      "\u001b[?25h  Preparing metadata (pyproject.toml) ... \u001b[?25ldone\n",
      "\u001b[?25hRequirement already satisfied: filelock in /home/ubuntu/miniconda3/envs/prompt/lib/python3.9/site-packages (from transformers==4.51.0.dev0) (3.18.0)\n",
      "Requirement already satisfied: huggingface-hub<1.0,>=0.26.0 in /home/ubuntu/miniconda3/envs/prompt/lib/python3.9/site-packages (from transformers==4.51.0.dev0) (0.30.1)\n",
      "Requirement already satisfied: numpy>=1.17 in /home/ubuntu/miniconda3/envs/prompt/lib/python3.9/site-packages (from transformers==4.51.0.dev0) (2.0.2)\n",
      "Requirement already satisfied: packaging>=20.0 in /home/ubuntu/miniconda3/envs/prompt/lib/python3.9/site-packages (from transformers==4.51.0.dev0) (24.2)\n",
      "Requirement already satisfied: pyyaml>=5.1 in /home/ubuntu/miniconda3/envs/prompt/lib/python3.9/site-packages (from transformers==4.51.0.dev0) (6.0.2)\n",
      "Requirement already satisfied: regex!=2019.12.17 in /home/ubuntu/miniconda3/envs/prompt/lib/python3.9/site-packages (from transformers==4.51.0.dev0) (2024.11.6)\n",
      "Requirement already satisfied: requests in /home/ubuntu/miniconda3/envs/prompt/lib/python3.9/site-packages (from transformers==4.51.0.dev0) (2.32.3)\n",
      "Requirement already satisfied: tokenizers<0.22,>=0.21 in /home/ubuntu/miniconda3/envs/prompt/lib/python3.9/site-packages (from transformers==4.51.0.dev0) (0.21.1)\n",
      "Requirement already satisfied: safetensors>=0.4.3 in /home/ubuntu/miniconda3/envs/prompt/lib/python3.9/site-packages (from transformers==4.51.0.dev0) (0.5.3)\n",
      "Requirement already satisfied: tqdm>=4.27 in /home/ubuntu/miniconda3/envs/prompt/lib/python3.9/site-packages (from transformers==4.51.0.dev0) (4.67.1)\n",
      "Requirement already satisfied: fsspec>=2023.5.0 in /home/ubuntu/miniconda3/envs/prompt/lib/python3.9/site-packages (from huggingface-hub<1.0,>=0.26.0->transformers==4.51.0.dev0) (2025.3.2)\n",
      "Requirement already satisfied: typing-extensions>=3.7.4.3 in /home/ubuntu/miniconda3/envs/prompt/lib/python3.9/site-packages (from huggingface-hub<1.0,>=0.26.0->transformers==4.51.0.dev0) (4.13.0)\n",
      "Requirement already satisfied: charset-normalizer<4,>=2 in /home/ubuntu/miniconda3/envs/prompt/lib/python3.9/site-packages (from requests->transformers==4.51.0.dev0) (3.4.1)\n",
      "Requirement already satisfied: idna<4,>=2.5 in /home/ubuntu/miniconda3/envs/prompt/lib/python3.9/site-packages (from requests->transformers==4.51.0.dev0) (3.10)\n",
      "Requirement already satisfied: urllib3<3,>=1.21.1 in /home/ubuntu/miniconda3/envs/prompt/lib/python3.9/site-packages (from requests->transformers==4.51.0.dev0) (2.3.0)\n",
      "Requirement already satisfied: certifi>=2017.4.17 in /home/ubuntu/miniconda3/envs/prompt/lib/python3.9/site-packages (from requests->transformers==4.51.0.dev0) (2025.1.31)\n"
     ]
    },
    {
     "name": "stderr",
     "output_type": "stream",
     "text": [
      "huggingface/tokenizers: The current process just got forked, after parallelism has already been used. Disabling parallelism to avoid deadlocks...\n",
      "To disable this warning, you can either:\n",
      "\t- Avoid using `tokenizers` before the fork if possible\n",
      "\t- Explicitly set the environment variable TOKENIZERS_PARALLELISM=(true | false)\n"
     ]
    },
    {
     "name": "stdout",
     "output_type": "stream",
     "text": [
      "Requirement already satisfied: qwen-vl-utils in /home/ubuntu/miniconda3/envs/prompt/lib/python3.9/site-packages (0.0.10)\n",
      "Requirement already satisfied: av in /home/ubuntu/miniconda3/envs/prompt/lib/python3.9/site-packages (from qwen-vl-utils) (14.2.0)\n",
      "Requirement already satisfied: packaging in /home/ubuntu/miniconda3/envs/prompt/lib/python3.9/site-packages (from qwen-vl-utils) (24.2)\n",
      "Requirement already satisfied: pillow in /home/ubuntu/miniconda3/envs/prompt/lib/python3.9/site-packages (from qwen-vl-utils) (10.4.0)\n",
      "Requirement already satisfied: requests in /home/ubuntu/miniconda3/envs/prompt/lib/python3.9/site-packages (from qwen-vl-utils) (2.32.3)\n",
      "Requirement already satisfied: charset-normalizer<4,>=2 in /home/ubuntu/miniconda3/envs/prompt/lib/python3.9/site-packages (from requests->qwen-vl-utils) (3.4.1)\n",
      "Requirement already satisfied: idna<4,>=2.5 in /home/ubuntu/miniconda3/envs/prompt/lib/python3.9/site-packages (from requests->qwen-vl-utils) (3.10)\n",
      "Requirement already satisfied: urllib3<3,>=1.21.1 in /home/ubuntu/miniconda3/envs/prompt/lib/python3.9/site-packages (from requests->qwen-vl-utils) (2.3.0)\n",
      "Requirement already satisfied: certifi>=2017.4.17 in /home/ubuntu/miniconda3/envs/prompt/lib/python3.9/site-packages (from requests->qwen-vl-utils) (2025.1.31)\n"
     ]
    },
    {
     "name": "stderr",
     "output_type": "stream",
     "text": [
      "huggingface/tokenizers: The current process just got forked, after parallelism has already been used. Disabling parallelism to avoid deadlocks...\n",
      "To disable this warning, you can either:\n",
      "\t- Avoid using `tokenizers` before the fork if possible\n",
      "\t- Explicitly set the environment variable TOKENIZERS_PARALLELISM=(true | false)\n"
     ]
    },
    {
     "name": "stdout",
     "output_type": "stream",
     "text": [
      "Requirement already satisfied: openai in /home/ubuntu/miniconda3/envs/prompt/lib/python3.9/site-packages (1.70.0)\n",
      "Requirement already satisfied: anyio<5,>=3.5.0 in /home/ubuntu/miniconda3/envs/prompt/lib/python3.9/site-packages (from openai) (4.9.0)\n",
      "Requirement already satisfied: distro<2,>=1.7.0 in /home/ubuntu/miniconda3/envs/prompt/lib/python3.9/site-packages (from openai) (1.9.0)\n",
      "Requirement already satisfied: httpx<1,>=0.23.0 in /home/ubuntu/miniconda3/envs/prompt/lib/python3.9/site-packages (from openai) (0.28.1)\n",
      "Requirement already satisfied: jiter<1,>=0.4.0 in /home/ubuntu/miniconda3/envs/prompt/lib/python3.9/site-packages (from openai) (0.9.0)\n",
      "Requirement already satisfied: pydantic<3,>=1.9.0 in /home/ubuntu/miniconda3/envs/prompt/lib/python3.9/site-packages (from openai) (2.11.2)\n",
      "Requirement already satisfied: sniffio in /home/ubuntu/miniconda3/envs/prompt/lib/python3.9/site-packages (from openai) (1.3.1)\n",
      "Requirement already satisfied: tqdm>4 in /home/ubuntu/miniconda3/envs/prompt/lib/python3.9/site-packages (from openai) (4.67.1)\n",
      "Requirement already satisfied: typing-extensions<5,>=4.11 in /home/ubuntu/miniconda3/envs/prompt/lib/python3.9/site-packages (from openai) (4.13.0)\n",
      "Requirement already satisfied: exceptiongroup>=1.0.2 in /home/ubuntu/miniconda3/envs/prompt/lib/python3.9/site-packages (from anyio<5,>=3.5.0->openai) (1.2.2)\n",
      "Requirement already satisfied: idna>=2.8 in /home/ubuntu/miniconda3/envs/prompt/lib/python3.9/site-packages (from anyio<5,>=3.5.0->openai) (3.10)\n",
      "Requirement already satisfied: certifi in /home/ubuntu/miniconda3/envs/prompt/lib/python3.9/site-packages (from httpx<1,>=0.23.0->openai) (2025.1.31)\n",
      "Requirement already satisfied: httpcore==1.* in /home/ubuntu/miniconda3/envs/prompt/lib/python3.9/site-packages (from httpx<1,>=0.23.0->openai) (1.0.7)\n",
      "Requirement already satisfied: h11<0.15,>=0.13 in /home/ubuntu/miniconda3/envs/prompt/lib/python3.9/site-packages (from httpcore==1.*->httpx<1,>=0.23.0->openai) (0.14.0)\n",
      "Requirement already satisfied: annotated-types>=0.6.0 in /home/ubuntu/miniconda3/envs/prompt/lib/python3.9/site-packages (from pydantic<3,>=1.9.0->openai) (0.7.0)\n",
      "Requirement already satisfied: pydantic-core==2.33.1 in /home/ubuntu/miniconda3/envs/prompt/lib/python3.9/site-packages (from pydantic<3,>=1.9.0->openai) (2.33.1)\n",
      "Requirement already satisfied: typing-inspection>=0.4.0 in /home/ubuntu/miniconda3/envs/prompt/lib/python3.9/site-packages (from pydantic<3,>=1.9.0->openai) (0.4.0)\n"
     ]
    }
   ],
   "source": [
    "!pip install git+https://github.com/huggingface/transformers\n",
    "!pip install qwen-vl-utils\n",
    "!pip install openai"
   ]
  },
  {
   "cell_type": "code",
   "execution_count": 9,
   "id": "9596c50d-80a8-433f-b846-1fbf61145ccc",
   "metadata": {
    "ExecutionIndicator": {
     "show": true
    },
    "execution": {
     "iopub.execute_input": "2025-01-29T12:40:16.511701Z",
     "iopub.status.busy": "2025-01-29T12:40:16.510916Z",
     "iopub.status.idle": "2025-01-29T12:40:16.878038Z",
     "shell.execute_reply": "2025-01-29T12:40:16.877543Z",
     "shell.execute_reply.started": "2025-01-29T12:40:16.511678Z"
    },
    "tags": []
   },
   "outputs": [],
   "source": [
    "import json\n",
    "import random\n",
    "from PIL import Image, ImageDraw, ImageFont\n",
    "from openai import OpenAI\n",
    "import os\n",
    "import base64\n",
    "\n",
    "sys_prompt = '''You are a prompt enhancer for image generation models like DALL·E or Midjourney.Given:An image.\n",
    "\n",
    "The original text prompt used to generate the image.\n",
    "\n",
    "Your task is to analyze the image and the original prompt, and then output a more detailed, vivid, and compositionally rich enhanced prompt that would recreate the image with higher fidelity, aesthetic quality, and visual richness. The enhanced prompt should:\n",
    "\n",
    "Include specific objects, styles, settings, lighting, mood, and artistic techniques observed in the image.\n",
    "\n",
    "Be clear, descriptive, and suitable for input into an AI image generator.\n",
    "\n",
    "Improve upon vague or minimal descriptions in the original prompt.\n",
    "\n",
    "The Enhanced Prompt should be euqal to or less than 77 tokens. You should be aware of that \n",
    "\n",
    "Input:\n",
    "\n",
    "Image: [insert image]\n",
    "\n",
    "Original Prompt: '[insert original prompt here]'\n",
    "\n",
    "Output:\n",
    "\n",
    "Enhanced Prompt: '[Your improved prompt here]'\n",
    "'''\n",
    "\n",
    "# @title inference function\n",
    "def inference(image_path, prompt, sys_prompt=sys_prompt, max_new_tokens=4096, return_input=False):\n",
    "    image = Image.open(image_path)\n",
    "    image_local_path = \"file://\" + image_path\n",
    "    messages = [\n",
    "        {\"role\": \"system\", \"content\": sys_prompt},\n",
    "        {\"role\": \"user\", \"content\": [\n",
    "                {\"type\": \"text\", \"text\": prompt},\n",
    "                {\"image\": image_local_path},\n",
    "            ]\n",
    "        },\n",
    "    ]\n",
    "    text = processor.apply_chat_template(messages, tokenize=False, add_generation_prompt=True)\n",
    "    # print(\"text:\", text)\n",
    "    inputs = processor(text=[text], images=[image], padding=True, return_tensors=\"pt\")\n",
    "    inputs = inputs.to('cuda')\n",
    "\n",
    "    output_ids = model.generate(**inputs, max_new_tokens=max_new_tokens)\n",
    "    generated_ids = [output_ids[len(input_ids):] for input_ids, output_ids in zip(inputs.input_ids, output_ids)]\n",
    "    output_text = processor.batch_decode(generated_ids, skip_special_tokens=True, clean_up_tokenization_spaces=True)\n",
    "    if return_input:\n",
    "        return output_text[0], inputs\n",
    "    else:\n",
    "        return output_text[0]\n",
    "    \n",
    "    \n",
    "\n",
    "\n",
    "\n",
    "#  base 64 \n",
    "def encode_image(image_path):\n",
    "    with open(image_path, \"rb\") as image_file:\n",
    "        return base64.b64encode(image_file.read()).decode(\"utf-8\")\n",
    "\n"
   ]
  },
  {
   "cell_type": "markdown",
   "id": "386e4cd8",
   "metadata": {},
   "source": [
    "Load model and processors."
   ]
  },
  {
   "cell_type": "code",
   "execution_count": 10,
   "id": "e829b782-0be7-4bc6-a576-6b815323376e",
   "metadata": {
    "ExecutionIndicator": {
     "show": false
    },
    "execution": {
     "iopub.execute_input": "2025-01-29T12:40:18.337731Z",
     "iopub.status.busy": "2025-01-29T12:40:18.337470Z",
     "iopub.status.idle": "2025-01-29T12:40:47.760976Z",
     "shell.execute_reply": "2025-01-29T12:40:47.760220Z",
     "shell.execute_reply.started": "2025-01-29T12:40:18.337713Z"
    },
    "tags": []
   },
   "outputs": [
    {
     "data": {
      "application/vnd.jupyter.widget-view+json": {
       "model_id": "bc98160785124201b81b0e49a654511b",
       "version_major": 2,
       "version_minor": 0
      },
      "text/plain": [
       "Loading checkpoint shards:   0%|          | 0/5 [00:00<?, ?it/s]"
      ]
     },
     "metadata": {},
     "output_type": "display_data"
    },
    {
     "name": "stderr",
     "output_type": "stream",
     "text": [
      "Some parameters are on the meta device because they were offloaded to the cpu.\n"
     ]
    }
   ],
   "source": [
    "import torch\n",
    "from transformers import Qwen2_5_VLForConditionalGeneration, AutoProcessor\n",
    "model_path = \"Qwen/Qwen2.5-VL-7B-Instruct\"\n",
    "model = Qwen2_5_VLForConditionalGeneration.from_pretrained(model_path, torch_dtype=torch.bfloat16, attn_implementation=\"flash_attention_2\",device_map=\"auto\")\n",
    "processor = AutoProcessor.from_pretrained(model_path)"
   ]
  },
  {
   "cell_type": "markdown",
   "id": "6a47ad45",
   "metadata": {},
   "source": [
    "\n",
    "\n",
    "#### 1. Birds Recognition\n",
    "\n",
    "There are more than 10,000 bird species in the world, and many of them have only slight differences in appearance. This is a very challenging fine-grained recognition task.\n",
    "\n",
    "##### 1.1 Single image recognition "
   ]
  },
  {
   "cell_type": "code",
   "execution_count": 11,
   "id": "1935af5e",
   "metadata": {
    "ExecutionIndicator": {
     "show": true
    },
    "execution": {
     "iopub.execute_input": "2025-01-29T12:41:18.150397Z",
     "iopub.status.busy": "2025-01-29T12:41:18.149631Z",
     "iopub.status.idle": "2025-01-29T12:41:19.978329Z",
     "shell.execute_reply": "2025-01-29T12:41:19.977054Z",
     "shell.execute_reply.started": "2025-01-29T12:41:18.150371Z"
    },
    "tags": []
   },
   "outputs": [
    {
     "name": "stdout",
     "output_type": "stream",
     "text": [
      "model_response: Enhanced Prompt: 'A man waking up in a dark and still room, illuminated by dramatic cinematic light from behind, casting long shadows. The sky is a striking contrast of deep red and cool blue hues, creating a misty atmosphere. The scene is reminiscent of Mikhail Vrubel's style, with Peter Elson's attention to detail and Philippe Druillet's dynamic composition. The muted color palette enhances the mysterious and ethereal mood. (Extreme detail), trending on ArtStation, 8K resolution.'\n",
      "model_response: Enhanced Prompt: 'A happy family on a yacht in the Caribbean Sea, with dolphins swimming alongside them, under a bright blue sky, vibrant colors, and a warm, joyful atmosphere.'\n",
      "model_response: Enhanced Prompt: \"A group of friendly alien race individuals with large, expressive eyes and intricate headgear, rendered in a vibrant, futuristic style. The scene is set in a dark, otherworldly environment illuminated by dramatic, colorful lighting. The characters are depicted in high detail, with a focus on their unique features and textures. The artwork is created using Unreal Engine, with a hyper-realistic finish, and is trending on ArtStation.\"\n",
      "model_response: Theo James as Cyclops in a cyberpunk futuristic neon setting, illustrated by Ismail Inceoglu, Dragun Bibin, Hans Thomas, Greg Rutkowski, Alexandros Pyromallis, Nekro, Rene Maritte. Detailed, realistic shading, full orange glass circular visor covering his eyes, shaved face, short hair, vibrant neon lights in the background, glossy cyberpunk attire, dynamic lighting, high contrast, sharp details, futuristic aesthetic.\n",
      "Warning: No enhanced prompt in response for row 3\n",
      "model_response: Enhanced Prompt: \"A portrait of a beautiful woman with long, flowing brown hair riding a vintage bicycle, styled in a Van Gogh-inspired impressionistic manner, with soft, warm lighting and a blurred background of greenery.\"\n",
      "model_response: Enhanced Prompt: A close-up render of a sleek black and gold protein bottle labeled \"100% Whey Protein Professional\" by Athlete Pro Nutrition. The bottle sits on a wooden surface with a blurred background featuring warm bokeh lights. The label has bold, metallic text and a sporty design. A small, shiny sports ball rests next to the bottle, emphasizing the athletic theme. The scene is illuminated with soft, warm lighting to highlight the product's details and create a premium feel.\n",
      "model_response: Enhanced Prompt: \"A surreal, cyberpunk-inspired interior scene featuring tall, distorted geometric columns reminiscent of ancient Roman architecture, with a large, abstract yellow circle dominating the background. The space is bathed in soft, diffused light, creating a dramatic chiaroscuro effect. Elements of Rene Magritte's dreamlike imagery and Didier Barra's modernist style are interwoven, while the influence of Johannes Vermeer's meticulous detail and use of light is evident. The scene is rendered in a tilt-shift effect, giving it a miniature, almost toy-like quality.\"\n",
      "Error processing row 7: 404 Client Error: Not Found for url: https://image.lexica.art/full_jpg/508fd458-d2d0-42b4-b31c-933bafb77e0d\n",
      "model_response: Enhanced Prompt: \"Elon Musk eating corn in a desert landscape, holding a large bowl filled with yellow kernels, with a bright sun casting dramatic shadows, vibrant green plants in the background, and a clear blue sky above.\"\n",
      "model_response: Enhanced Prompt: \"A bat with large, detailed wings, perched on the edge of a building at dusk, illuminated by warm, golden sunlight streaming through a window behind it. The bat's fur is a mix of dark brown and light beige, with sharp, pointed ears and glowing eyes. The setting is a classic architectural style with ornate details, creating a dramatic and atmospheric scene.\"\n",
      "model_response: Enhanced Prompt: \"A luxurious 3D-rendered bedroom with elegant gold and navy blue accents. The room features a modern bed with a sleek, curved design and a plush headboard. Gold armchairs with dark cushions sit by the large window, draped with heavy, textured curtains. The walls are adorned with vertical gold stripes, and the ceiling has intricate geometric patterns. Soft, warm lighting from a chandelier and floor lamp creates a cozy ambiance. The glossy floor reflects the room's opulent details, enhancing the overall grandeur.\"\n",
      "model_response: Enhanced Prompt: \"High-quality minimalistic wallpaper featuring translucent, elegant 3D waves with intricate textures. Set against a stark black background, the waves exhibit a striking contrast with their glossy, reflective surfaces. The image is rendered in 8K resolution with a filmic look, capturing the ethereal beauty of the waves in a serene, monochromatic palette.\"\n",
      "model_response: A sleek, corkscrew-shaped spaceship inspired by a battleship and Maschinen Krieger, featuring intricate docking bays and glowing blue lights. The design blends elements from Ilm, Beeple, Star Citizen, Halo, Mass Effect, and Starship Troopers, with a metallic finish and sharp angles. Set against a deep, starry space background, the ship exudes a futuristic and industrial aesthetic.\n",
      "Warning: No enhanced prompt in response for row 12\n",
      "model_response: Enhanced Prompt: \"A New Year greeting card for 2023 featuring a close-up of a woman adorned with golden ornaments, her hair flowing elegantly. The background is dark, highlighting the vibrant gold and red hues of the ornaments and her attire. The scene is set under a beautifully decorated Christmas tree with shiny toys and garlands. Beneath the tree, various gifts are neatly arranged. The image is rendered in a realistic yet slightly futuristic style, with smooth textures and high-quality details. The overall mood is festive and elegant, with a touch of vintage charm. The artwork is hyper-detailed, with a 4K resolution, and captures the essence of a magical holiday season. The style is reminiscent of digital paintings by artists such as Artgerm, Viktoria Gavrilenko, Steve Zheng, and Terry Rogers.\"\n",
      "model_response: Enhanced Prompt: \"A striking portrait of two biodegradable cats in a pop art neo-noir style, with sharp focus and highly detailed textures. The vibrant neon green and black color palette contrasts sharply against a bold orange background, evoking a retro 80s aesthetic. The cats' expressions are intense and slightly eerie, capturing the essence of neo-noir. The image is rendered in high definition, with every fur detail meticulously captured.\"\n",
      "model_response: Enhanced Prompt: \"Create a portrait of Max Caulfield with vibrant red and orange hues in the background, wearing a blue jacket over a striped white and pink shirt. The lighting should be soft and warm, highlighting her features with a halo effect around her head. The overall style should be realistic with a painterly touch, capturing the essence of Max's youthful energy.\"\n",
      "model_response: Enhanced Prompt: \"A melancholic female astronaut in a detailed space suit, set against a starry cosmic backdrop, with a whimsical touch, rendered in mixed media by Bartholomew Beal, Alfio Presotto, Rhads, Salustiano Garcia Cruz, and Lita Cabellut, capturing a contemporary art style with vibrant colors and intricate details.\"\n",
      "Error processing row 17: 404 Client Error: Not Found for url: https://image.lexica.art/full_jpg/01eaa693-46eb-4bd1-b18f-16e62220f809\n",
      "model_response: Enhanced Prompt: A full-body portrait of a stunning young woman bodybuilder in a sailor-inspired outfit, featuring intricate details and sharp focus. The outfit includes a white crop top with blue accents and matching shorts, complemented by gold jewelry and a bold belt. Her hair is styled in voluminous waves, and she has a confident pose with one hand on her hip. The background is softly lit, creating a dramatic contrast that highlights her muscular physique and elegant features. The artwork is rendered in a hyper-realistic style, capturing every muscle and detail with precision.\n",
      "model_response: Enhanced Prompt: A majestic mountain range covered in snow, with a vibrant yellow field in the foreground. A serene river flows through the landscape, reflecting the sky above. The scene is bathed in warm sunlight, casting long shadows across the terrain. The mountains are sharp and rugged, with patches of green vegetation clinging to their slopes. The overall mood is tranquil and awe-inspiring, capturing the beauty of nature in its raw form.\n",
      "model_response: A panda with a pastel aesthetic, inspired by Studio Ghibli, standing confidently against a vibrant gradient background transitioning from pink to purple. The panda's fur has a soft, almost painterly texture, with subtle highlights and shadows giving it depth. The character design is whimsical and charming, with large expressive eyes and a friendly smile. The overall mood is magical and dreamy, evoking a sense of fantasy and wonder. Rendered in high-resolution 8K, the image captures every detail with exceptional clarity and vibrancy.\n",
      "Warning: No enhanced prompt in response for row 20\n",
      "model_response: Enhanced Prompt: \"Humans living in harmony with nature, surrounded by vibrant purple and green trees, a majestic waterfall cascading down a lush cliff, and a serene landscape filled with wildflowers and grazing animals under a soft, ethereal light.\"\n",
      "model_response: Enhanced Prompt: \"A Hierophant figure draped in gold sits between two towering pillars of a sacred temple, bathed in the warm glow of a setting sun. The scene is set against a starry night sky, with a large, glowing orb behind the figure casting a mystical aura. The painting style is reminiscent of Rene Magritte's surrealist works, with sharp geometric lines and a dreamlike atmosphere.\"\n",
      "model_response: Enhanced Prompt: \"A vibrant hot rod bone shaker in a desert sandstorm, flat design style, with dynamic motion lines, bold orange and yellow tones, dramatic sunset backdrop, and a sleek, retro car design.\"\n",
      "model_response: Enhanced Prompt: \"Little Miss is sitting on her Tuffet eating a bowl of curds and whey, surrounded by lush green mountains under a warm, golden summer sky, 8k resolution matte fantasy painting, cinematic lighting, vibrant colors, detailed textures, DeviantArt, Artstation, Jason Felix, Steve Argyle, Tyler Jacobson, Peter Mohrbacher.\"\n",
      "model_response: Enhanced Prompt: \"Jean-Claude Van Damme as a lionhearted warrior in his final battle against Attila, with intense sunlight casting dramatic shadows on his muscular physique, set against a rugged desert landscape under a clear blue sky.\"\n",
      "model_response: A Mad Max-inspired supercomputer, emitting intense electric shockwaves, driving through a desert at high speed, with flames billowing from its tires and a dramatic sky in the background. The car is adorned with futuristic gadgets on top, glowing lights, and vibrant, neon colors reflecting off its sleek, metallic surface.\n",
      "Warning: No enhanced prompt in response for row 26\n",
      "model_response: Enhanced Prompt: \"A painting masterpiece featuring a fallen angel in a striking purple leather jacket and matching sparkly bikini by Alexander Cabanel, set against a dramatic sky with swirling clouds, bathed in warm, ethereal light, capturing the figure in a seductive pose with intricate feather details on the wings.\"\n",
      "model_response: Enhanced Prompt: \"A highly detailed Unreal Engine render of a man with a long accordion-neck, wearing a white shirt and black pants, holding a pencil, set against a minimalist gray background with soft, diffused lighting. The character design is intricate, featuring a blend of realistic textures and stylized elements, with a focus on the unique elongated neck and the subtle interplay of light and shadow.\"\n",
      "Error processing row 29: 404 Client Error: Not Found for url: https://image.lexica.art/full_jpg/4023b794-7aeb-46d3-9348-fa1161921b42\n",
      "model_response: Enhanced Prompt: \"A powerful, muscular figure wearing a dark blue and gold suit with a glowing red emblem on the chest, standing confidently against a vibrant purple and pink gradient background. The character's helmet features sharp, angular designs and glowing red eyes, exuding an aura of authority and menace.\"\n",
      "Error processing row 31: 404 Client Error: Not Found for url: https://image.lexica.art/full_jpg/0e6f0890-66e0-43d9-8155-4f9f390d1aae\n",
      "model_response: Enhanced Prompt: \"A cute, adorable baby owl encased in a shimmering crystal ball with high-poly eyes, surrounded by a glowing aura. Intricately detailed feathers, vibrant colors, and a mystical atmosphere. Highly realistic, concept art style, inspired by ArtStation, rendered in 8K resolution.\"\n",
      "model_response: Enhanced Prompt: \"A mecha human cyborg with sleek orange and black armor, standing in a futuristic room with soft natural light filtering through large windows. The robot's design features intricate mechanical details, glowing blue eyes, and a dynamic pose that conveys motion and power.\"\n",
      "Error processing row 34: 404 Client Error: Not Found for url: https://image.lexica.art/full_jpg/f8f79e14-0173-4293-8597-855590badbe8\n",
      "model_response: Enhanced Prompt: \"A grand circular agora of ancient Greece at night, illuminated by warm golden lights, leading to a futuristic portal with 360-degree views of virtual worlds, set against a backdrop of silhouetted palm trees and distant mountains under a twilight sky.\"\n",
      "Error processing row 36: 404 Client Error: Not Found for url: https://image.lexica.art/full_jpg/afc186e1-a683-47e0-b965-ee46118bc13e\n",
      "model_response: Enhanced Prompt: \"A beautiful anime girl with short, flowing white hair, wearing a pristine white lab coat and round glasses, holding a clipboard filled with scientific data, standing confidently inside a modern research facility. The setting is illuminated by soft, ambient light, creating a serene yet focused atmosphere. The character's expression is serious and determined, reflecting her dedication to her work. The artwork is highly detailed, with intricate patterns on her lab coat and a smooth, sharp focus throughout the scene. The style is reminiscent of digital paintings found on ArtStation, with a touch of elegance and sophistication. The overall mood is one of professionalism and innovation.\"\n",
      "Error processing row 38: 404 Client Error: Not Found for url: https://image.lexica.art/full_jpg/3e028bae-6521-4b58-8ab5-40df387e0965\n",
      "model_response: Enhanced Prompt: \"A cinematic full-body NFT collection featuring a marijuana goddess character concept. Perfectly focused closeup macro photography of a beautiful marijuana bud with dense trichomes, glowing under neon blacklight. Sacred DMT weed superheroine with visionary fantasy art inspired by Greg Rutkowski, Android Jones, and Artgerm. Alien plants with intricate details and vibrant colors, adhering to the rule of thirds and golden ratio composition.\"\n",
      "model_response: Enhanced Prompt: \"Highly detailed portrait of a male bandit wearing a black and gold hat, with striking blue eyes and a bold mustache, set against a warm, golden glow. The background features a dramatic sunset with fiery hues, creating a sense of intensity and mystery. The artwork is inspired by the style of Artgerm, Greg Rutkowski, Tetsuya Nomura, Makoto Shinkai, Boris Vallejo, and Stephen Bliss, with smooth, sharp focus and a fantasy setting.\"\n",
      "model_response: Enhanced Prompt: \"A stunning, modern 4-bedroom house in Florida, featuring sleek black and white architecture with large glass windows and balconies. The exterior is surrounded by lush greenery and manicured lawns, with a clear blue sky above. The scene is bathed in warm, natural sunlight, highlighting the intricate details and clean lines of the contemporary design.\"\n",
      "model_response: Enhanced Prompt: 'A highly detailed, 4K masterpiece in manga style featuring a robotic girl in a black bikini sitting on the beach. The scene is bathed in warm, golden light with a large, glowing moon in the background, creating a surreal and captivating atmosphere. The landscape includes rugged cliffs and a distant cityscape, blending futuristic and natural elements seamlessly. The art style is reminiscent of Gantz, with intricate details and a striking contrast between the character's mechanical features and her human-like appearance.'\n",
      "model_response: Enhanced Prompt: \"A character concept by Jen Zee and Vince Javier, featuring a young woman with long, flowing black hair adorned with red ribbons. Her skin is smooth and glowing, with rosy cheeks and defined eyes. She wears a traditional outfit with intricate gold trim and a high collar, set against a soft, neutral background. The lighting is warm and highlights her features beautifully, creating a serene and elegant atmosphere.\"\n",
      "Error processing row 44: 404 Client Error: Not Found for url: https://image.lexica.art/full_jpg/16b34480-c14f-48d8-96c0-2c18a2779ec5\n",
      "model_response: Enhanced Prompt: A close-up portrait of a vibrant, bioluminescent jellyfish with intricate, iridescent patterns. The jellyfish's translucent body reveals internal structures with a mix of blue and purple hues, set against a dark background illuminated by warm orange and yellow lights. The scene is highly detailed and rendered with Octane, capturing the ethereal beauty of the creature in a cinematic, hyper-realistic style.\n",
      "model_response: A full-body portrait of a muscular human-rottweiler hybrid wearing a New York baseball team uniform in a Zootopia-inspired style. The character stands confidently with hands on hips, set against a soft blue gradient background. The uniform features vibrant orange and blue colors with white accents, and the number \"21\" is prominently displayed on the chest. The character's fur is detailed with realistic shading and highlights, giving it a lifelike appearance. The scene is rendered in Unreal Engine 5 with high-quality textures and lighting, capturing the essence of a dynamic and energetic sports mascot.\n",
      "Warning: No enhanced prompt in response for row 46\n",
      "model_response: Enhanced Prompt: \"Sayori from DDLC, smiling warmly, wearing her school uniform with a pink bow in her hair, soft lighting highlighting her features, a dreamy and cheerful atmosphere, detailed and vibrant colors, high resolution, anime style.\"\n",
      "model_response: A cinematic portrait of a cute Shiba Inu sitting regally inside a grand hall of a golden palace, gazing out with a serene expression. A flickering torch burns brightly in front of the dog, casting dramatic shadows and warm light across its fur. The scene is painted in oil on canvas, with meticulous attention to detail and a masterful use of lighting to create a dramatic and visually rich composition. The artwork is trending on ArtStation and featured on Pixiv, showcasing a cinematic style with a hyper-detailed, high-resolution, and cinematic composition. The image is rendered in HD, HDR, and 4K, emphasizing the sharpness and beauty of the scene.\n",
      "Warning: No enhanced prompt in response for row 48\n",
      "model_response: Enhanced Prompt: \"A sensitive, strong African-Korean man in a tailored suit with yellow accents, standing confidently on a beach with dramatic cliffs in the background. Medium shot, organic painting style, bold shapes, hard edges, and vibrant colors. Sunny day with soft shadows, reminiscent of Greg Manchess' work, with influences from Huang Guangjian, Gil Elvgren, Sachin Teng, Artgerm, and Greg Rutkowski, capturing the essence of Alphonse Mucha's artistry.\"\n",
      "Error processing row 50: 404 Client Error: Not Found for url: https://image.lexica.art/full_jpg/70eaae0b-0c9f-42e0-930f-945078c1d231\n",
      "model_response: Enhanced Prompt: \"A highly detailed black and white sketch of Black Panther, showcasing intricate lines and shading, with a dramatic close-up of his face and chest, highlighting his intense gaze and muscular build against a stark white background.\"\n",
      "model_response: Enhanced Prompt: \"Anime girl with long brown hair and vibrant green eyes, wearing a playful yet elegant outfit, standing in front of a storefront with a wall adorned with lights. Her arms are raised playfully, and she has a mischievous expression. The scene is set in an urban environment, with a night-time ambiance and a soft glow from the background lights. The artwork is professionally drawn with detailed manga-style cel-shading and clear, clean manga pen work, reminiscent of gelbooru's aesthetic. The character's gaze is captivating, with intricate details in her eyes, capturing the essence of anime artistry.\"\n",
      "model_response: Enhanced Prompt: \"A beautiful and adorable oriental princess with youthful and attractive features, wearing elegant white lace attire, her flowing hair adorned with intricate floral crowns and delicate feathers, set against a soft, ethereal background. The portrait showcases a symmetrical face with graceful lines and expressive eyes, rendered in a highly detailed and refined style reminiscent of ArtStation and CGSociety. The lighting is soft and diffused, creating a serene and enchanting atmosphere.\"\n",
      "model_response: Enhanced Prompt: \"A surreal landscape featuring towering, moss-covered cliffs with a futuristic tunnel carved into one of them. The scene is bathed in soft, diffused sunlight, casting long shadows across the turquoise waters below. The distant mountains are shrouded in a light mist, adding depth and mystery to the composition. The overall mood is serene and otherworldly, with vibrant greens and blues dominating the palette.\"\n",
      "Error processing row 55: 404 Client Error: Not Found for url: https://image.lexica.art/full_jpg/0003d242-4dea-4155-a23e-6e7cca123d18\n",
      "model_response: Enhanced Prompt: \"A vibrant, high-resolution portrait of a woman wearing large, illuminated headphones with a bold red and yellow logo, set against a dramatic gradient background transitioning from deep purple to fiery orange. The lighting highlights her striking features and the reflective surfaces of the headphones, creating a dynamic and surreal atmosphere reminiscent of pop surrealism. The artwork is inspired by Christian Hilfgott Brand's style, capturing the essence of a Behance contest winner with intricate details and a cinematic quality.\"\n",
      "model_response: Enhanced Prompt: \"A vibrant anime-style girl with fiery orange hair tied in a ponytail and striking purple eyes, wearing a detailed blue school uniform with white accents, confidently points a futuristic-looking gun at the viewer against a serene sky backdrop with soft clouds.\"\n",
      "model_response: Enhanced Prompt: \"A detailed, high-fidelity recreation of Walter White from 'Breaking Bad' in the style of Dark Souls, featuring a rugged, weathered appearance with a greenish tint. The character wears a tattered, hooded cloak, set against a dark, moody background with subtle lighting highlighting his intense expression and intricate facial features. The scene captures the gritty, atmospheric essence of Dark Souls, blending the iconic look of Walter White with the game's distinctive art style.\"\n",
      "Error processing row 59: 404 Client Error: Not Found for url: https://image.lexica.art/full_jpg/77709d42-a147-4b61-b9f2-250ed0998255\n",
      "model_response: Enhanced Prompt: 'A close-up of Asuna from SAO, featuring her glossy, pearlescent skin, detailed armor with gold accents, set against a dramatic sky with soft clouds, captured in a dynamic pose with flowing hair, inspired by Greg Rutkowski and Gil Elvgren, with a high level of detail and vibrant colors.'\n",
      "model_response: Enhanced Prompt: \"A vibrant street scene in Old Havana, featuring spoonbills, toucans, and hornbills wading through a reflective puddle. Vintage cars line the cobblestone street under a bright, cinematic sky. The buildings, with their weathered facades and balconies, add to the nostalgic atmosphere. The birds are rendered in hyperrealistic detail, with glossy surfaces and liquid textures. The scene is illuminated by soft, natural light, creating a depth of field that enhances the realism. This image is trending on Behance and CGSociety, showcasing a blend of nature and urban life.\"\n",
      "model_response: Enhanced Prompt: \"Taylor Swift smoking a joint, full body shot, high contrast, soft focus, ISO100, f/8, 1/125, 84mm lens, postprocessed, crisp face, bold makeup, red lipstick, glamorous setting, dramatic lighting, sultry mood, detailed textures, vibrant colors, artistic illustration style.\"\n",
      "model_response: Enhanced Prompt: \"A detailed old Jewish temple in the Pixar style, set in a vast desert landscape with golden sand dunes under a soft, warm sunset. The temple features intricate carvings on its door, casting long shadows across the sandy terrain. The scene is bathed in a gentle, ethereal light, evoking a sense of ancient history and biblical narrative.\"\n",
      "model_response: Enhanced Prompt: \"A vibrant underwater portrait of a mermaid with curly red hair and striking green eyes, wearing a shimmering red mermaid tail. She is cuddling a colorful hammerhead shark, with sunlight filtering through the water, casting a warm glow on her face. The scene is set in a lush coral reef, with various marine life swimming around, creating a serene and magical atmosphere.\"\n",
      "model_response: Enhanced Prompt: \"A serene lakeside scene at sunrise, with a rustic cabin nestled among lush greenery and towering mountains shrouded in mist. The water reflects the vibrant yellow grass and the cabin's roof, creating a mirror-like effect. Tents are pitched along the shore, and a small boat floats gently on the calm lake. The painting features bold, expressive brushstrokes and a naturalistic style, capturing the tranquil beauty of nature.\"\n",
      "model_response: Enhanced Prompt: 'Highly detailed digital painting of Aizen Sosuke from Bleach, atmospheric lighting with warm orange and cool blue tones, octane render, Unreal Engine, professional, metal beak, fantasy mystery, intricate architectural details, reflective floor, glowing circular pattern, dramatic shadows, moody ambiance, intricate hair texture, dark cloak, intense expression, mysterious atmosphere, cinematic style.'\n",
      "Error processing row 67: 404 Client Error: Not Found for url: https://image.lexica.art/full_jpg/aaf9d727-9438-44d8-b05c-1e4955097e88\n",
      "model_response: Enhanced Prompt: A skier mid-air on a vibrant, colorful ski slope at sunset, with a sticker-like cut-out effect, ultra-detailed, octane render, 8k resolution, Adobe illustration, smooth and clean vector art, no jagged lines or edges, dynamic lighting, serene mountain backdrop, vivid colors, high contrast, artistic depth, and a sense of motion.\n",
      "Error processing row 69: 404 Client Error: Not Found for url: https://image.lexica.art/full_jpg/d44e92cb-751e-4189-858c-d7d42e90854f\n",
      "model_response: Enhanced Prompt: \"Create a hyper-realistic, Tim Burton-inspired portrait of El Chavo del Ocho, featuring vibrant colors, intricate textures, and exaggerated facial features. The character should wear his iconic striped sweater and green hat, set against a slightly blurred background with warm, natural lighting that highlights his expressive eyes and mustache.\"\n",
      "model_response: A white Maltese dog sitting on a hill, gazing at a vibrant fireworks display, digital art style, by Range Murata and Akiyuki Shinbou, highly detailed and realistic, cinematic lighting, bold and vivid colors, photorealistic textures, 4K resolution.\n",
      "Warning: No enhanced prompt in response for row 71\n",
      "model_response: Enhanced Prompt: \"Close-up of an anthropomorphic fox wearing a navy blue utility cap, polarized sports sunglasses, and a bulletproof vest, with sharp details and a slightly blurred background, emphasizing the fox's confident expression under natural daylight.\"\n",
      "Error processing row 73: 404 Client Error: Not Found for url: https://image.lexica.art/full_jpg/28be1f14-d377-4e60-8bbf-efea0e77e8e9\n",
      "model_response: Enhanced Prompt: \"A detailed coat of arms featuring three wolf heads, each with piercing yellow eyes and intricate fur textures, set against a dark background with a golden frame. The shield is adorned with ornate gold detailing and surrounded by a border of ancient runes, creating a majestic and regal atmosphere.\"\n",
      "Error processing row 75: 404 Client Error: Not Found for url: https://image.lexica.art/full_jpg/8203711d-6f16-499a-86c8-612f1cbfac69\n",
      "model_response: Enhanced Prompt: \"A dramatic space battle viewed from the surface of Earth, with a massive planet dominating the sky, intense fiery explosions illuminating the landscape, a sleek spaceship launching amidst a backdrop of stars and nebulae, creating a sense of awe and tension.\"\n",
      "Error processing row 77: 404 Client Error: Not Found for url: https://image.lexica.art/full_jpg/47c1462c-a4e8-43bd-9dd7-2ce1a408020a\n",
      "model_response: Enhanced Prompt: \"A giant golden wheel of time suspended in a vast, dark room filled with cosmic energy. The wheel is intricately detailed with symbols and inscriptions, casting a mystical glow on the surrounding space. The background features a galaxy-scale view with distant stars, nebulae, and a glowing planet, creating a sense of awe and wonder. The atmosphere is ethereal, with a mix of warm and cool tones, and the scene is bathed in a soft, otherworldly light.\"\n",
      "model_response: Enhanced Prompt: \"A Syd Mead-inspired sci-fi ancient civilization laundry room bathed in the warm glow of a purple sun, featuring Beksinski-style architecture with intricate geometric patterns and a large, circular, floating sculpture casting dramatic shadows on the cracked stone floor.\"\n",
      "Error processing row 80: 404 Client Error: Not Found for url: https://image.lexica.art/full_jpg/1f52bf19-79a2-498a-91c8-34af0bcb47b1\n",
      "model_response: Enhanced Prompt: \"A young man wearing glasses in a Hayao Miyazaki-inspired drawing style, standing outdoors with a serene landscape featuring mountains, trees, and a clear blue sky in the background. The lighting is soft and warm, casting gentle shadows on his face and clothing. The scene exudes a peaceful and nostalgic atmosphere.\"\n",
      "Error processing row 82: 404 Client Error: Not Found for url: https://image.lexica.art/full_jpg/5400fafb-0f6b-4a74-87cf-f3741fa27a31\n",
      "model_response: Enhanced Prompt: \"A full-body shot of a green mantis with intricate mantid features, including large antennae and detailed wings. The illustration has heavy contrast and cinematic art style, reminiscent of fantasy artwork from CGSociety. The mantis stands on a mossy surface, with a blurred background enhancing the subject's prominence. Artwork inspired by Greg Rutkowski and Thomas, rendered in high detail at 8k resolution.\"\n",
      "Error processing row 84: 404 Client Error: Not Found for url: https://image.lexica.art/full_jpg/feaeef11-c8b3-4d3d-aa88-ed02173ae7f4\n",
      "model_response: Enhanced Prompt: \"A half-portrait of a steampunk Russian goddess mecha in the style of Horizon Zero Dawn and League of Legends, featuring intricate, elegant, and highly detailed armor with gold accents. The character's face is adorned with ornate jewelry and a regal headdress, set against a soft, ethereal background. The lighting is dramatic, highlighting the smooth, sharp focus on the character's features and the intricate details of the armor. The overall mood is both majestic and mysterious, capturing the essence of a fusion between fantasy and futuristic aesthetics. Artistic influences include elements from Rococo and Baroque styles, with a digital painting technique reminiscent of ArtStation concept art.\"\n",
      "model_response: Enhanced Prompt: \"A vibrant claymation lemon monster character from 'Legend,' with exaggerated eyes and sharp teeth, perched on a yellow plate against a warm, cozy kitchen backdrop, bathed in soft, natural light.\"\n",
      "model_response: Enhanced Prompt: \"A super cute, adorable cartoon character resembling a baby wearing a bear costume, with large expressive eyes and a warm, inviting smile. The character has golden accents, including ears and feet, and is set against a dreamy, surreal background with soft, gradient lighting. The overall mood is whimsical and enchanting, reminiscent of trending art on ArtStation.\"\n",
      "model_response: Enhanced Prompt: A muscular blond woman with large legs in a white bikini, standing on a sandy beach with the ocean in the background. The sun is shining brightly, casting a warm glow on her tanned skin and highlighting her defined muscles. Her long blonde hair flows freely, and she has a confident, relaxed posture. The scene is vibrant and dynamic, capturing the essence of a sunny day at the beach.\n",
      "model_response: A cute, small humanoid antelope character sitting in a cozy movie theater, enjoying a large striped bucket of popcorn. The setting is warmly lit with soft, ambient lighting, creating a cinematic atmosphere. The antelope has expressive blue eyes and is holding the popcorn bucket with both hands, looking directly at the viewer with a content expression. The background features rows of plush brown seats, and the overall scene is rendered in a hyperrealistic style with detailed textures and vibrant colors, reminiscent of art by Mark Ryden and Hayao Miyazaki. The image is created using Unreal Engine 5 with Octane Render for rendering.\n",
      "Warning: No enhanced prompt in response for row 89\n",
      "model_response: Enhanced Prompt: \"A tiger wearing a construction helmet and safety vest, standing inside a futuristic, snow-covered train station at dusk, with warm interior lights contrasting against the cool blue exterior. The scene is set in a modern, sleek architectural style with large windows reflecting the twilight sky.\"\n",
      "model_response: Enhanced Prompt: \"A close-up portrait of Shakira with long, wavy blonde hair styled elegantly, wearing a sparkling red dress with thin straps, gold hoop earrings, and a delicate necklace. The background features a soft, blurred blue gradient, highlighting her radiant smile and glowing skin. The lighting is warm and flattering, emphasizing her natural beauty and the shimmer of her attire.\"\n",
      "model_response: Enhanced Prompt: A sleek, modern motorcycle with vibrant orange accents and chrome details, ridden by a rider in a black leather suit and helmet, speeding down a winding road at sunset, with warm golden light illuminating the scene and creating dynamic motion blur.\n",
      "Error processing row 93: 404 Client Error: Not Found for url: https://image.lexica.art/full_jpg/aada6bda-1e52-47a1-a86b-b26a58e91fd5\n",
      "model_response: Enhanced Prompt: \"A tall anime woman with straight chin-length blonde hair, wearing a detailed leather corset with gold accents, black gloves, and tall leather boots. Her outfit includes a white top underneath the corset, and she has a confident stance against a dramatic sky backdrop with soft, glowing lights.\"\n",
      "model_response: Enhanced Prompt: \"A desert clown in a cyberpunk gas station, wearing a vibrant orange jumpsuit and a tall hat, standing confidently on sand dunes with neon lights glowing behind him. The scene is bathed in warm, golden sunlight, creating dramatic shadows and highlighting the intricate details of the futuristic gas pumps and the clown's colorful attire.\"\n",
      "model_response: Enhanced Prompt: \"A black and white illustration of a group of seven people standing on a riverbank, gazing out at a sleek, modern boat sailing past. The scene is set in a bustling cityscape with towering skyscrapers and smoke stacks emitting dark plumes of smoke. The river reflects the silhouettes of the buildings and the figures on the bank, creating a serene yet industrial atmosphere. The mood is contemplative, with soft, diffused lighting enhancing the contrast between light and shadow.\"\n",
      "model_response: Enhanced Prompt: \"A vibrant, appetizing salad featuring tender slices of beef, fresh spinach leaves, and glossy mushrooms, served in a rustic red bowl on a wooden table with a red napkin, bathed in warm, natural light that highlights the juicy textures and rich colors.\"\n",
      "model_response: Enhanced Prompt: 'A low-quality iPhone photo of Joe Biden standing ominously deep in the foggy woods, with a demonic smile on his face. The image has a grainy texture and low visibility, resembling trail cam footage. The forest is dense with bare trees, creating an eerie atmosphere.'\n",
      "model_response: A frighteningly ugly witch woman wearing a black hat adorned with gold accents, set against a dimly lit background with flickering candles casting eerie shadows. Her eyes are intense and piercing, with dark makeup accentuating her features. She wears a fur-trimmed cloak over a white dress with intricate detailing, and a gold necklace with a pendant. The overall mood is ominous and foreboding, with a touch of elegance in her attire.\n",
      "Warning: No enhanced prompt in response for row 99\n",
      "Intended to process 100 rows.\n",
      "Successfully processed and saved 71 rows.\n",
      "Enhanced CSV saved to ../output/enhanced_prompts.csv\n"
     ]
    }
   ],
   "source": [
    "import pandas as pd\n",
    "import requests\n",
    "from io import BytesIO\n",
    "from PIL import Image\n",
    "import os\n",
    "\n",
    "# ====== CONFIGURATION ======\n",
    "INPUT_CSV_PATH = \"../datasets/900k-diffusion-prompts-dataset/diffusion_prompts.csv\"\n",
    "OUTPUT_CSV_PATH = \"../output/enhanced_prompts.csv\"\n",
    "NUM_SAMPLES = 100  # <--- Change this number to control how many rows are processed\n",
    "IMAGE_SAVE_DIR = \"../datasets/900k-diffusion-prompts-dataset/downloaded_images\"\n",
    "\n",
    "# ====== Ensure image directory exists ======\n",
    "os.makedirs(IMAGE_SAVE_DIR, exist_ok=True)\n",
    "\n",
    "# ====== Load the CSV ======\n",
    "df = pd.read_csv(INPUT_CSV_PATH)\n",
    "\n",
    "# ====== Slice for the desired number of rows ======\n",
    "df_subset = df.head(NUM_SAMPLES)\n",
    "\n",
    "# ====== Store successful rows and enhanced prompts ======\n",
    "successful_rows = []\n",
    "enhanced_prompts = []\n",
    "\n",
    "# ====== Process each row ======\n",
    "for idx, row in df_subset.iterrows():\n",
    "    prompt = row['prompt']\n",
    "    image_url = row['url']\n",
    "    image_id = row['id']\n",
    "    image_path = os.path.join(IMAGE_SAVE_DIR, f\"{image_id}.png\")\n",
    "    \n",
    "    try:\n",
    "        # Check if image already exists, else download it\n",
    "        if not os.path.exists(image_path):\n",
    "            response = requests.get(image_url)\n",
    "            response.raise_for_status()  # ensure it's a valid response\n",
    "            image = Image.open(BytesIO(response.content))\n",
    "            image.save(image_path)\n",
    "        else:\n",
    "            print(f\"Image {image_id}.png already exists. Skipping download.\")\n",
    "\n",
    "        # Run inference\n",
    "        model_response = inference(image_path, prompt)\n",
    "        print(f\"model_response: {model_response}\")\n",
    "\n",
    "        # Extract enhanced prompt\n",
    "        if isinstance(model_response, str) and \"Enhanced Prompt:\" in model_response:\n",
    "            enhanced_prompt = model_response.split(\"Enhanced Prompt:\")[-1].strip().strip('\"')\n",
    "        else:\n",
    "            print(f\"Warning: No enhanced prompt in response for row {idx}\")\n",
    "            continue  # skip this row\n",
    "\n",
    "        # Save successful row and enhanced prompt\n",
    "        enhanced_prompts.append(enhanced_prompt)\n",
    "        successful_rows.append(row)\n",
    "\n",
    "    except Exception as e:\n",
    "        print(f\"Error processing row {idx}: {e}\")\n",
    "        continue  # skip this row\n",
    "\n",
    "# ====== Build final DataFrame and save ======\n",
    "final_df = pd.DataFrame(successful_rows)\n",
    "final_df['prompt'] = enhanced_prompts  # replace with enhanced prompts\n",
    "\n",
    "# Ensure output directory exists\n",
    "os.makedirs(os.path.dirname(OUTPUT_CSV_PATH), exist_ok=True)\n",
    "\n",
    "final_df.to_csv(OUTPUT_CSV_PATH, index=False)\n",
    "\n",
    "# ====== Summary ======\n",
    "print(f\"Intended to process {NUM_SAMPLES} rows.\")\n",
    "print(f\"Successfully processed and saved {len(final_df)} rows.\")\n",
    "print(f\"Enhanced CSV saved to {OUTPUT_CSV_PATH}\")\n"
   ]
  }
 ],
 "metadata": {
  "kernelspec": {
   "display_name": "prompt",
   "language": "python",
   "name": "python3"
  },
  "language_info": {
   "codemirror_mode": {
    "name": "ipython",
    "version": 3
   },
   "file_extension": ".py",
   "mimetype": "text/x-python",
   "name": "python",
   "nbconvert_exporter": "python",
   "pygments_lexer": "ipython3",
   "version": "3.9.21"
  }
 },
 "nbformat": 4,
 "nbformat_minor": 5
}
